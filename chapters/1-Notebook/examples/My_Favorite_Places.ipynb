{
 "cells": [
  {
   "cell_type": "markdown",
   "id": "a30fca78",
   "metadata": {},
   "source": [
    "# My Favorite Places"
   ]
  },
  {
   "cell_type": "code",
   "execution_count": 1,
   "id": "daa8a648",
   "metadata": {},
   "outputs": [],
   "source": [
    "import my_notes"
   ]
  }
 ],
 "metadata": {
  "kernelspec": {
   "display_name": "Python 3 (ipykernel)",
   "language": "python",
   "name": "python3"
  },
  "language_info": {
   "codemirror_mode": {
    "name": "ipython",
    "version": 3
   },
   "file_extension": ".py",
   "mimetype": "text/x-python",
   "name": "python",
   "nbconvert_exporter": "python",
   "pygments_lexer": "ipython3",
   "version": "3.11.2"
  }
 },
 "nbformat": 4,
 "nbformat_minor": 5
}
